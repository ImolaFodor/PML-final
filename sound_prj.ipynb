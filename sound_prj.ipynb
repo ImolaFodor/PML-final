{
 "cells": [
  {
   "cell_type": "markdown",
   "metadata": {},
   "source": [
    "## Split wavs to source level, append to title source, elevation, azimuth"
   ]
  },
  {
   "cell_type": "code",
   "execution_count": null,
   "metadata": {},
   "outputs": [],
   "source": [
    "# from pydub import AudioSegment\n",
    "# import os\n",
    "# import pandas as pd\n",
    "\n",
    "# # Input\n",
    "# annotations = pd.read_csv(\"D:\\\\units\\\\PML\\\\project\\\\metadata_dev\\\\meta_of_meta.csv\")\n",
    "\n",
    "# for i in range(0,len(annotations)):\n",
    "#     sound = AudioSegment.from_wav(os.getcwd() + '\\\\mic_dev\\\\' + annotations.iloc[i, 0] + '.wav')\n",
    "#     StrtTime = annotations.iloc[i, 2]*1000\n",
    "#     EndTime = annotations.iloc[i, 3]*1000\n",
    "#     # Opening file and extracting portion of it\n",
    "#     extract = sound[StrtTime:EndTime]\n",
    "#     # Saving file in required location\n",
    "#     extract.export(\"D:\\\\units\\\\PML\\\\project\\\\mic_dev_splits\\\\\" + annotations.iloc[i, 1] + \"_\" + str(annotations.iloc[i, 5]) + \"_\" + str(annotations.iloc[i, 6]) + \"_\" +  str(i) + \".wav\", format=\"wav\")"
   ]
  },
  {
   "cell_type": "code",
   "execution_count": 45,
   "metadata": {},
   "outputs": [
    {
     "name": "stdout",
     "output_type": "stream",
     "text": [
      "Requirement already satisfied: pip in c:\\program files\\windowsapps\\pythonsoftwarefoundation.python.3.9_3.9.3568.0_x64__qbz5n2kfra8p0\\lib\\site-packages (22.0.4)"
     ]
    },
    {
     "name": "stderr",
     "output_type": "stream",
     "text": [
      "WARNING: Ignoring invalid distribution -illow (c:\\users\\lenovo\\appdata\\local\\packages\\pythonsoftwarefoundation.python.3.9_qbz5n2kfra8p0\\localcache\\local-packages\\python39\\site-packages)\n",
      "WARNING: Ignoring invalid distribution -illow (c:\\users\\lenovo\\appdata\\local\\packages\\pythonsoftwarefoundation.python.3.9_qbz5n2kfra8p0\\localcache\\local-packages\\python39\\site-packages)\n",
      "WARNING: Ignoring invalid distribution -illow (c:\\users\\lenovo\\appdata\\local\\packages\\pythonsoftwarefoundation.python.3.9_qbz5n2kfra8p0\\localcache\\local-packages\\python39\\site-packages)\n",
      "  WARNING: The scripts pip.exe, pip3.10.exe, pip3.9.exe and pip3.exe are installed in 'C:\\Users\\LENOVO\\AppData\\Local\\Packages\\PythonSoftwareFoundation.Python.3.9_qbz5n2kfra8p0\\LocalCache\\local-packages\\Python39\\Scripts' which is not on PATH.\n",
      "  Consider adding this directory to PATH or, if you prefer to suppress this warning, use --no-warn-script-location.\n",
      "WARNING: Ignoring invalid distribution -illow (c:\\users\\lenovo\\appdata\\local\\packages\\pythonsoftwarefoundation.python.3.9_qbz5n2kfra8p0\\localcache\\local-packages\\python39\\site-packages)\n",
      "WARNING: Ignoring invalid distribution -illow (c:\\users\\lenovo\\appdata\\local\\packages\\pythonsoftwarefoundation.python.3.9_qbz5n2kfra8p0\\localcache\\local-packages\\python39\\site-packages)\n",
      "WARNING: Ignoring invalid distribution -illow (c:\\users\\lenovo\\appdata\\local\\packages\\pythonsoftwarefoundation.python.3.9_qbz5n2kfra8p0\\localcache\\local-packages\\python39\\site-packages)\n",
      "WARNING: Ignoring invalid distribution -illow (c:\\users\\lenovo\\appdata\\local\\packages\\pythonsoftwarefoundation.python.3.9_qbz5n2kfra8p0\\localcache\\local-packages\\python39\\site-packages)\n",
      "WARNING: You are using pip version 22.0.4; however, version 22.1.2 is available.\n",
      "You should consider upgrading via the 'C:\\Users\\LENOVO\\AppData\\Local\\Microsoft\\WindowsApps\\PythonSoftwareFoundation.Python.3.9_qbz5n2kfra8p0\\python.exe -m pip install --upgrade pip' command.\n"
     ]
    },
    {
     "name": "stdout",
     "output_type": "stream",
     "text": [
      "\n",
      "Collecting pip\n",
      "  Downloading pip-22.1.2-py3-none-any.whl (2.1 MB)\n",
      "     ---------------------------------------- 2.1/2.1 MB 6.5 MB/s eta 0:00:00\n",
      "Installing collected packages: pip\n",
      "Successfully installed pip-22.1.2\n"
     ]
    }
   ],
   "source": [
    "!pip3 install -U pip"
   ]
  },
  {
   "cell_type": "code",
   "execution_count": 46,
   "metadata": {},
   "outputs": [
    {
     "name": "stdout",
     "output_type": "stream",
     "text": [
      "Requirement already satisfied: scikit-image in c:\\users\\lenovo\\appdata\\local\\packages\\pythonsoftwarefoundation.python.3.9_qbz5n2kfra8p0\\localcache\\local-packages\\python39\\site-packages (0.19.3)"
     ]
    },
    {
     "name": "stderr",
     "output_type": "stream",
     "text": [
      "WARNING: Ignoring invalid distribution -illow (c:\\users\\lenovo\\appdata\\local\\packages\\pythonsoftwarefoundation.python.3.9_qbz5n2kfra8p0\\localcache\\local-packages\\python39\\site-packages)\n",
      "WARNING: Ignoring invalid distribution -illow (c:\\users\\lenovo\\appdata\\local\\packages\\pythonsoftwarefoundation.python.3.9_qbz5n2kfra8p0\\localcache\\local-packages\\python39\\site-packages)\n",
      "WARNING: Ignoring invalid distribution -illow (c:\\users\\lenovo\\appdata\\local\\packages\\pythonsoftwarefoundation.python.3.9_qbz5n2kfra8p0\\localcache\\local-packages\\python39\\site-packages)\n",
      "WARNING: Ignoring invalid distribution -illow (c:\\users\\lenovo\\appdata\\local\\packages\\pythonsoftwarefoundation.python.3.9_qbz5n2kfra8p0\\localcache\\local-packages\\python39\\site-packages)\n",
      "WARNING: Ignoring invalid distribution -illow (c:\\users\\lenovo\\appdata\\local\\packages\\pythonsoftwarefoundation.python.3.9_qbz5n2kfra8p0\\localcache\\local-packages\\python39\\site-packages)\n",
      "WARNING: Ignoring invalid distribution -illow (c:\\users\\lenovo\\appdata\\local\\packages\\pythonsoftwarefoundation.python.3.9_qbz5n2kfra8p0\\localcache\\local-packages\\python39\\site-packages)\n"
     ]
    },
    {
     "name": "stdout",
     "output_type": "stream",
     "text": [
      "\n",
      "Requirement already satisfied: pillow!=7.1.0,!=7.1.1,!=8.3.0,>=6.1.0 in c:\\users\\lenovo\\appdata\\local\\packages\\pythonsoftwarefoundation.python.3.9_qbz5n2kfra8p0\\localcache\\local-packages\\python39\\site-packages (from scikit-image) (9.2.0)\n",
      "Requirement already satisfied: scipy>=1.4.1 in c:\\users\\lenovo\\appdata\\local\\packages\\pythonsoftwarefoundation.python.3.9_qbz5n2kfra8p0\\localcache\\local-packages\\python39\\site-packages (from scikit-image) (1.6.3)\n",
      "Requirement already satisfied: packaging>=20.0 in c:\\users\\lenovo\\appdata\\local\\packages\\pythonsoftwarefoundation.python.3.9_qbz5n2kfra8p0\\localcache\\local-packages\\python39\\site-packages (from scikit-image) (20.9)\n",
      "Requirement already satisfied: networkx>=2.2 in c:\\users\\lenovo\\appdata\\local\\packages\\pythonsoftwarefoundation.python.3.9_qbz5n2kfra8p0\\localcache\\local-packages\\python39\\site-packages (from scikit-image) (2.8.4)\n",
      "Requirement already satisfied: imageio>=2.4.1 in c:\\users\\lenovo\\appdata\\local\\packages\\pythonsoftwarefoundation.python.3.9_qbz5n2kfra8p0\\localcache\\local-packages\\python39\\site-packages (from scikit-image) (2.19.3)\n",
      "Requirement already satisfied: tifffile>=2019.7.26 in c:\\users\\lenovo\\appdata\\local\\packages\\pythonsoftwarefoundation.python.3.9_qbz5n2kfra8p0\\localcache\\local-packages\\python39\\site-packages (from scikit-image) (2022.5.4)\n",
      "Requirement already satisfied: PyWavelets>=1.1.1 in c:\\users\\lenovo\\appdata\\local\\packages\\pythonsoftwarefoundation.python.3.9_qbz5n2kfra8p0\\localcache\\local-packages\\python39\\site-packages (from scikit-image) (1.3.0)\n",
      "Requirement already satisfied: numpy>=1.17.0 in c:\\users\\lenovo\\appdata\\local\\packages\\pythonsoftwarefoundation.python.3.9_qbz5n2kfra8p0\\localcache\\local-packages\\python39\\site-packages (from scikit-image) (1.19.5)\n",
      "Requirement already satisfied: pyparsing>=2.0.2 in c:\\users\\lenovo\\appdata\\local\\packages\\pythonsoftwarefoundation.python.3.9_qbz5n2kfra8p0\\localcache\\local-packages\\python39\\site-packages (from packaging>=20.0->scikit-image) (2.4.7)\n"
     ]
    }
   ],
   "source": [
    "!pip3 install scikit-image"
   ]
  },
  {
   "cell_type": "code",
   "execution_count": 47,
   "metadata": {},
   "outputs": [
    {
     "name": "stdout",
     "output_type": "stream",
     "text": [
      "0.19.3\n"
     ]
    }
   ],
   "source": [
    "import skimage\n",
    "print(skimage.__version__)"
   ]
  },
  {
   "cell_type": "code",
   "execution_count": 37,
   "metadata": {},
   "outputs": [],
   "source": [
    "import os\n",
    "import numpy as np \n",
    "import matplotlib.pyplot as plt \n",
    "\n",
    "from pydub import AudioSegment\n",
    "import wave\n",
    "\n",
    "import librosa\n",
    "import librosa.display\n",
    "\n",
    "import skimage.io \n",
    "\n"
   ]
  },
  {
   "cell_type": "markdown",
   "metadata": {},
   "source": [
    "## Data Exploration"
   ]
  },
  {
   "cell_type": "markdown",
   "metadata": {},
   "source": [
    "Baic info on audios, checking uniformity on sample_rate"
   ]
  },
  {
   "cell_type": "code",
   "execution_count": null,
   "metadata": {},
   "outputs": [],
   "source": [
    "# Load files\n",
    "audio_segment_1 = AudioSegment.from_file(\"D:\\\\units\\\\PML\\\\project\\\\mic_dev_splits\\\\clearthroat_10_20_36.wav\")\n",
    "audio_segment_2 = AudioSegment.from_file(\"D:\\\\units\\\\PML\\\\project\\\\mic_dev_splits\\\\keyboard_0_100_63.wav\")\n",
    "audio_segment_3 = AudioSegment.from_file(\"D:\\\\units\\\\PML\\\\project\\\\mic_dev_splits\\\\phone_-40_-30_27.wav\")\n",
    "\n",
    "audio_segments = [audio_segment_1, audio_segment_2, audio_segment_3]\n",
    "\n",
    "# Print attributes\n",
    "for audio_segment in audio_segments:\n",
    "    print(f\"Channels: {audio_segment.channels}\")\n",
    "    print(f\"Sample width: {audio_segment.sample_width}\")\n",
    "    print(f\"Frame rate (sample rate): {audio_segment.frame_rate}\")\n",
    "    print(f\"Frame width: {audio_segment.frame_width}\")\n",
    "    print(f\"Length (ms): {len(audio_segment)}\")\n",
    "    print(f\"Frame count: {audio_segment.frame_count()}\")\n",
    "    print(f\"Intensity: {audio_segment.dBFS}\")"
   ]
  },
  {
   "cell_type": "markdown",
   "metadata": {},
   "source": [
    "Plotting different amplitudes"
   ]
  },
  {
   "cell_type": "code",
   "execution_count": 3,
   "metadata": {},
   "outputs": [
    {
     "data": {
      "image/png": "[encoded data removed]",
      "text/plain": [
       "<Figure size 432x288 with 3 Axes>"
      ]
     },
     "metadata": {
      "needs_background": "light"
     },
     "output_type": "display_data"
    }
   ],
   "source": [
    "# Open wav file and read frames as bytes\n",
    "sf_filewave_1 = wave.open('D:\\\\units\\\\PML\\\\project\\\\mic_dev_splits\\\\clearthroat_10_20_36.wav', 'r')\n",
    "sf_filewave_2 = wave.open('D:\\\\units\\\\PML\\\\project\\\\mic_dev_splits\\\\keyboard_0_100_63.wav', 'r')\n",
    "sf_filewave_3 = wave.open('D:\\\\units\\\\PML\\\\project\\\\mic_dev_splits\\\\phone_-40_-30_27.wav', 'r')\n",
    "\n",
    "sf_filewaves = [sf_filewave_1, sf_filewave_2, sf_filewave_3]\n",
    "\n",
    "# Set up plot\n",
    "f, axs = plt.subplots(3)\n",
    "# Setup the title and axis titles\n",
    "counter = 0\n",
    "for sf_filewave in sf_filewaves:\n",
    "    signal_sf = sf_filewave.readframes(-1)\n",
    "    # Convert audio bytes to integers\n",
    "    soundwave_sf = np.frombuffer(signal_sf, dtype='int16')\n",
    "    # Get the sound wave frame rate\n",
    "    framerate_sf = sf_filewave.getframerate()\n",
    "    # Find the sound wave timestamps\n",
    "    time_sf = np.linspace(start=0,\n",
    "                        stop=len(soundwave_sf)/framerate_sf,\n",
    "                        num=len(soundwave_sf))\n",
    "    ax = axs[counter]\n",
    "    # Add the audio data to the plot\n",
    "    ax.plot(time_sf, soundwave_sf, label='Sound', alpha=0.5)\n",
    "    ax.set_title(f'Plot {counter}')\n",
    "    counter = counter + 1\n",
    "\n",
    "plt.show()"
   ]
  },
  {
   "cell_type": "markdown",
   "metadata": {},
   "source": [
    "## Feature extraction "
   ]
  },
  {
   "cell_type": "markdown",
   "metadata": {},
   "source": [
    "Trying with usual features, but would be hard to handle the continuous ones."
   ]
  },
  {
   "cell_type": "code",
   "execution_count": 31,
   "metadata": {},
   "outputs": [],
   "source": [
    "y, sr = librosa.load(\"D:\\\\units\\\\PML\\\\project\\\\clearthroat_-10_-60_19.wav\")\n",
    "\n",
    "# Get RMS value from each frame's magnitude value\n",
    "# S, phase = librosa.magphase(librosa.stft(y))\n",
    "features = librosa.feature.rms(y = y)[:, 0:4]\n",
    "for path in os.listdir(dir_path):\n",
    "    y, sr = librosa.load(dir_path + path)\n",
    "\n",
    "    # Get RMS value from each frame's magnitude value\n",
    "    # S, phase = librosa.magphase(librosa.stft(y))\n",
    "    rms = librosa.feature.rms(y = y)\n",
    "    features = np.vstack((features, rms[:, 0:4]))\n"
   ]
  },
  {
   "cell_type": "code",
   "execution_count": 32,
   "metadata": {},
   "outputs": [
    {
     "name": "stdout",
     "output_type": "stream",
     "text": [
      "(73, 4)\n"
     ]
    }
   ],
   "source": [
    "print(features.shape)"
   ]
  },
  {
   "cell_type": "markdown",
   "metadata": {},
   "source": [
    "Going with the spectrogram and decided to work with the images."
   ]
  },
  {
   "cell_type": "code",
   "execution_count": null,
   "metadata": {},
   "outputs": [],
   "source": [
    "def wav_to_spectrogram():\n",
    "    for filename in os.listdir(os.getcwd() + '/mic_dev_splits/'):\n",
    "        if filename.endswith(\".wav\"): \n",
    "            x, sr = librosa.load(os.getcwd() + '/mic_dev_splits/' + filename)\n",
    "            x_1k = librosa.resample(x, orig_sr=sr, target_sr=1000)\n",
    "            # Spectrogram of frequency\n",
    "            X = librosa.stft(x_1k)\n",
    "            Xdb = librosa.amplitude_to_db(abs(X))\n",
    "            plt.figure(figsize=(15, 3))\n",
    "            librosa.display.specshow(Xdb, sr=sr, x_axis='time', y_axis='hz',cmap='gray_r')\n",
    "            #plt.colorbar()\n",
    "            plt.axis('off')\n",
    "            plt.savefig(os.getcwd() + '/mic_dev_splits_imgs_1k/' + filename[0:-4] + '.png')\n",
    "        else:\n",
    "            continue\n",
    "\n",
    "wav_to_spectrogram()"
   ]
  },
  {
   "cell_type": "code",
   "execution_count": 108,
   "metadata": {},
   "outputs": [
    {
     "name": "stdout",
     "output_type": "stream",
     "text": [
      "False\n",
      "(73, 233280)\n",
      "[[0. 0. 0. ... 0. 0. 0.]\n",
      " [0. 0. 0. ... 0. 0. 0.]\n",
      " [0. 0. 0. ... 0. 0. 0.]\n",
      " ...\n",
      " [0. 0. 0. ... 0. 0. 0.]\n",
      " [0. 0. 0. ... 0. 0. 0.]\n",
      " [0. 0. 0. ... 0. 0. 0.]]\n"
     ]
    }
   ],
   "source": [
    "from skimage import io\n",
    "img1 = io.imread('D:\\\\units\\\\PML\\\\project\\\\mic_dev_splits_imgs_1k\\\\laughter_-10_-10_31.png')\n",
    "img2 = io.imread('D:\\\\units\\\\PML\\\\project\\\\mic_dev_splits_imgs_1k\\\\phone_10_-120_2.png')\n",
    "print(np.array_equal(img1,img2))\n",
    "data = np.empty((73,233280))\n",
    "for filename in os.listdir(os.getcwd() + '/mic_dev_splits_imgs_1k/'):\n",
    "    if filename.endswith(\".wav\"): \n",
    "        img = io.imread(os.getcwd() + '/mic_dev_splits_imgs_1k/' + filename)\n",
    "        img1ch = img[..., 1]\n",
    "        img1ch1d = img1ch.flatten()\n",
    "        data = np.vstack((data, img1ch1d))      \n",
    "    else:\n",
    "        continue\n",
    "\n",
    "print(data.shape)\n",
    "print(data)\n"
   ]
  },
  {
   "cell_type": "markdown",
   "metadata": {},
   "source": [
    "## Get labels in respective arrays"
   ]
  },
  {
   "cell_type": "code",
   "execution_count": 104,
   "metadata": {},
   "outputs": [],
   "source": [
    "# folder path\n",
    "dir_path = r'D:\\\\units\\\\PML\\\\project\\\\mic_dev_splits\\\\'\n",
    "first = \"clearthroat_-10_-60_19\"\n",
    "ls1 = first.split(\"_\")\n",
    "# list to store files\n",
    "source = []\n",
    "elev = np.empty([1, 1])\n",
    "elev.fill(int(ls1[1]))\n",
    "azi = np.empty([1, 1])\n",
    "azi.fill(int(ls1[2]))\n",
    "\n",
    "# Iterate directory\n",
    "for path in os.listdir(dir_path):\n",
    "    # check if current path is a file\n",
    "    if os.path.isfile(os.path.join(dir_path, path)):\n",
    "        ls = path.split(\"_\")\n",
    "        source.append(ls[0])\n",
    "        elev = np.append(elev,int(ls[1]))\n",
    "        azi = np.append(azi, int(ls[2]))"
   ]
  },
  {
   "cell_type": "code",
   "execution_count": 105,
   "metadata": {},
   "outputs": [
    {
     "name": "stdout",
     "output_type": "stream",
     "text": [
      "(73,)\n",
      "(73,)\n"
     ]
    },
    {
     "data": {
      "text/plain": [
       "['clearthroat',\n",
       " 'clearthroat',\n",
       " 'clearthroat',\n",
       " 'clearthroat',\n",
       " 'cough',\n",
       " 'cough',\n",
       " 'cough',\n",
       " 'cough',\n",
       " 'cough',\n",
       " 'cough',\n",
       " 'cough',\n",
       " 'doorslam',\n",
       " 'doorslam',\n",
       " 'doorslam',\n",
       " 'doorslam',\n",
       " 'drawer',\n",
       " 'drawer',\n",
       " 'drawer',\n",
       " 'drawer',\n",
       " 'drawer',\n",
       " 'drawer',\n",
       " 'keyboard',\n",
       " 'keyboard',\n",
       " 'keyboard',\n",
       " 'keyboard',\n",
       " 'keyboard',\n",
       " 'keyboard',\n",
       " 'keyboard',\n",
       " 'keysDrop',\n",
       " 'keysDrop',\n",
       " 'keysDrop',\n",
       " 'keysDrop',\n",
       " 'knock',\n",
       " 'knock',\n",
       " 'knock',\n",
       " 'knock',\n",
       " 'knock',\n",
       " 'knock',\n",
       " 'knock',\n",
       " 'knock',\n",
       " 'knock',\n",
       " 'laughter',\n",
       " 'laughter',\n",
       " 'laughter',\n",
       " 'laughter',\n",
       " 'laughter',\n",
       " 'laughter',\n",
       " 'laughter',\n",
       " 'laughter',\n",
       " 'laughter',\n",
       " 'laughter',\n",
       " 'pageturn',\n",
       " 'pageturn',\n",
       " 'pageturn',\n",
       " 'pageturn',\n",
       " 'phone',\n",
       " 'phone',\n",
       " 'phone',\n",
       " 'phone',\n",
       " 'phone',\n",
       " 'phone',\n",
       " 'phone',\n",
       " 'phone',\n",
       " 'phone',\n",
       " 'phone',\n",
       " 'speech',\n",
       " 'speech',\n",
       " 'speech',\n",
       " 'speech',\n",
       " 'speech',\n",
       " 'speech',\n",
       " 'speech']"
      ]
     },
     "execution_count": 105,
     "metadata": {},
     "output_type": "execute_result"
    }
   ],
   "source": [
    "print(elev.shape)\n",
    "print(azi.shape)\n",
    "\n",
    "source"
   ]
  }
 ],
 "metadata": {
  "interpreter": {
   "hash": "90fee8763d76b2516181321d6a2084a8775622914896b9db6868725b6ee87a03"
  },
  "kernelspec": {
   "display_name": "Python 3.9.13 64-bit (windows store)",
   "language": "python",
   "name": "python3"
  },
  "language_info": {
   "codemirror_mode": {
    "name": "ipython",
    "version": 3
   },
   "file_extension": ".py",
   "mimetype": "text/x-python",
   "name": "python",
   "nbconvert_exporter": "python",
   "pygments_lexer": "ipython3",
   "version": "3.9.13"
  },
  "orig_nbformat": 4
 },
 "nbformat": 4,
 "nbformat_minor": 2
}
